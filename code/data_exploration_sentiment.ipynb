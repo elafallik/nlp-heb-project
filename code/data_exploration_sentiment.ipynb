{
 "cells": [
  {
   "cell_type": "code",
   "execution_count": 4,
   "metadata": {},
   "outputs": [],
   "source": [
    "import pandas as pd\n",
    "import numpy as np\n",
    "from pathlib import Path\n",
    "import matplotlib.pyplot as plt\n",
    "%matplotlib inline\n",
    "import seaborn as sns\n",
    "import os"
   ]
  },
  {
   "cell_type": "markdown",
   "metadata": {},
   "source": [
    "# get data"
   ]
  },
  {
   "cell_type": "code",
   "execution_count": 5,
   "metadata": {},
   "outputs": [
    {
     "name": "stdout",
     "output_type": "stream",
     "text": [
      "<class 'pandas.core.frame.DataFrame'>\n",
      "RangeIndex: 220 entries, 0 to 219\n",
      "Data columns (total 5 columns):\n",
      " #   Column         Non-Null Count  Dtype   \n",
      "---  ------         --------------  -----   \n",
      " 0   post_num       220 non-null    int64   \n",
      " 1   post_idx       220 non-null    int64   \n",
      " 2   text           220 non-null    object  \n",
      " 3   topic_tag      220 non-null    int64   \n",
      " 4   sentiment_tag  220 non-null    category\n",
      "dtypes: category(1), int64(3), object(1)\n",
      "memory usage: 7.3+ KB\n",
      "None\n"
     ]
    }
   ],
   "source": [
    "data_dir = Path(\"C:\\\\Users\\\\Ela\\\\Documents\\\\SemesterB\\\\hebNLP\\\\project_new\\\\data\\\\final_tagged\")\n",
    "\n",
    "train_path = data_dir/\"sentences_list_shuffled_tagged_topics_1_train.csv\"\n",
    "test_path = data_dir/\"sentences_list_shuffled_tagged_topics_1_test.csv\"\n",
    "train_df = pd.read_csv(train_path, encoding=\"utf-8\")\n",
    "train_df.loc[:, \"sentiment_tag\"] = train_df.sentiment_tag.astype(\"category\")\n",
    "test_df = pd.read_csv(test_path, encoding=\"utf-8\")\n",
    "text = train_df[\"text\"]\n",
    "print(train_df.info())"
   ]
  },
  {
   "cell_type": "markdown",
   "metadata": {},
   "source": [
    "# data exploration"
   ]
  },
  {
   "cell_type": "code",
   "execution_count": 6,
   "metadata": {},
   "outputs": [],
   "source": [
    "def print_stats(train_df, test_df):\n",
    "    print(\"train data\")\n",
    "    tot=len(train_df)\n",
    "    print(train_df.sentiment_tag.value_counts())\n",
    "    print(train_df.sentiment_tag.value_counts()/tot)\n",
    "    print()\n",
    "    print(\"train percentage:\", len(train_df)/(len(train_df) + len(test_df)))\n",
    "    print(\"test percentage:\", len(test_df)/(len(train_df) + len(test_df)))"
   ]
  },
  {
   "cell_type": "code",
   "execution_count": 7,
   "metadata": {
    "scrolled": true
   },
   "outputs": [
    {
     "name": "stdout",
     "output_type": "stream",
     "text": [
      "train data\n",
      " 1    100\n",
      " 0     77\n",
      "-1     43\n",
      "Name: sentiment_tag, dtype: int64\n",
      " 1    0.454545\n",
      " 0    0.350000\n",
      "-1    0.195455\n",
      "Name: sentiment_tag, dtype: float64\n",
      "\n",
      "train percentage: 0.7006369426751592\n",
      "test percentage: 0.29936305732484075\n"
     ]
    }
   ],
   "source": [
    "print_stats(train_df, test_df)"
   ]
  },
  {
   "cell_type": "code",
   "execution_count": 8,
   "metadata": {},
   "outputs": [],
   "source": [
    "def plot_data_stats(train_df):\n",
    "    plt.hist(train_df.sentiment_tag, density=True, label='train')\n",
    "    plt.legend()\n"
   ]
  },
  {
   "cell_type": "code",
   "execution_count": 9,
   "metadata": {},
   "outputs": [
    {
     "data": {
      "image/png": "[encoded data removed]",
      "text/plain": [
       "<Figure size 432x288 with 1 Axes>"
      ]
     },
     "metadata": {
      "needs_background": "light"
     },
     "output_type": "display_data"
    }
   ],
   "source": [
    "plot_data_stats(train_df)"
   ]
  },
  {
   "cell_type": "code",
   "execution_count": 10,
   "metadata": {},
   "outputs": [],
   "source": [
    "def plot_character_length_histogram(text):\n",
    "    text.str.len().\\\n",
    "        hist(range=(0,250))"
   ]
  },
  {
   "cell_type": "code",
   "execution_count": 11,
   "metadata": {},
   "outputs": [
    {
     "data": {
      "image/png": "[encoded data removed]",
      "text/plain": [
       "<Figure size 432x288 with 1 Axes>"
      ]
     },
     "metadata": {
      "needs_background": "light"
     },
     "output_type": "display_data"
    }
   ],
   "source": [
    "plot_character_length_histogram(train_df.text)"
   ]
  },
  {
   "cell_type": "code",
   "execution_count": 12,
   "metadata": {},
   "outputs": [],
   "source": [
    "def plot_word_number_histogram(text):\n",
    "    text.str.split().\\\n",
    "        map(lambda x: len(x)).\\\n",
    "        hist(range=(0,60))"
   ]
  },
  {
   "cell_type": "code",
   "execution_count": 13,
   "metadata": {},
   "outputs": [
    {
     "data": {
      "image/png": "[encoded data removed]",
      "text/plain": [
       "<Figure size 432x288 with 1 Axes>"
      ]
     },
     "metadata": {
      "needs_background": "light"
     },
     "output_type": "display_data"
    }
   ],
   "source": [
    "plot_word_number_histogram(train_df.text)"
   ]
  },
  {
   "cell_type": "code",
   "execution_count": 14,
   "metadata": {},
   "outputs": [],
   "source": [
    "def get_hebrew_stopwords():\n",
    "    stop_path=os.getcwd() + \"/data/stopwords.txt\"\n",
    "    with open(stop_path, encoding=\"utf-8\") as in_file:\n",
    "        lines=in_file.readlines()\n",
    "        res=[l.strip() for l in lines]\n",
    "#     res.append(\"נתניהו\")    \n",
    "    return res"
   ]
  },
  {
   "cell_type": "code",
   "execution_count": 15,
   "metadata": {},
   "outputs": [],
   "source": [
    "def invert_words(words):\n",
    "    return [w[::-1] for w in words]"
   ]
  },
  {
   "cell_type": "code",
   "execution_count": 16,
   "metadata": {},
   "outputs": [],
   "source": [
    "stop=get_hebrew_stopwords()"
   ]
  },
  {
   "cell_type": "code",
   "execution_count": 20,
   "metadata": {},
   "outputs": [],
   "source": [
    "import seaborn as sns\n",
    "#from nltk.corpus import stopwords\n",
    "from collections import  Counter\n",
    "\n",
    "def plot_top_non_stopwords_barchart(text, stop):\n",
    "    #stop=set(get_hebrew_stopwords())\n",
    "    \n",
    "    new= text.str.split()\n",
    "    new=new.values.tolist()\n",
    "    corpus=[word for i in new for word in i]\n",
    "\n",
    "    counter=Counter(corpus)\n",
    "    most=counter.most_common()\n",
    "    x, y=[], []\n",
    "    for word,count in most[:60]:\n",
    "        if (len(word)>1 and word not in stop):\n",
    "            x.append(word)\n",
    "            y.append(count)\n",
    "        if len(x) >= 20:\n",
    "            break\n",
    "            \n",
    "    sns.barplot(x=y,y=invert_words(x))\n",
    "    plt.title('Top positive non stopwords for Trump dataset')\n",
    "    plt.show()"
   ]
  },
  {
   "cell_type": "code",
   "execution_count": 66,
   "metadata": {},
   "outputs": [
    {
     "data": {
      "image/png": "[encoded data removed]",
      "text/plain": [
       "<Figure size 432x288 with 1 Axes>"
      ]
     },
     "metadata": {
      "needs_background": "light"
     },
     "output_type": "display_data"
    }
   ],
   "source": [
    "plot_top_non_stopwords_barchart(text, stop)"
   ]
  },
  {
   "cell_type": "code",
   "execution_count": 67,
   "metadata": {},
   "outputs": [
    {
     "name": "stdout",
     "output_type": "stream",
     "text": [
      "    post_num  post_idx                                               text  \\\n",
      "2         10         0  ארהב ב הנהגת ה נשיא טראמפ מתייצבת מחדש ב הנהגת...   \n",
      "4         56         5                      טוב ש יש ל אנחנו כ ה זה ידיד    \n",
      "5         89         8       זו עצה ידידותית מ חבר ש מחזיק מקל גדול ב ידו   \n",
      "8         45         4  חתם ה יום על ה חוק ה מחייב את מחלקת ה מדינה ה ...   \n",
      "10        46         2                                         תודה ל אתה   \n",
      "\n",
      "    topic_tag sentiment_tag  \n",
      "2           1             1  \n",
      "4           1             1  \n",
      "5           1             1  \n",
      "8           1             1  \n",
      "10          1             1  \n"
     ]
    }
   ],
   "source": [
    "print(train_df[train_df.sentiment_tag==1].head())"
   ]
  },
  {
   "cell_type": "markdown",
   "metadata": {},
   "source": [
    "# Positive top words"
   ]
  },
  {
   "cell_type": "code",
   "execution_count": 21,
   "metadata": {},
   "outputs": [
    {
     "data": {
      "image/png": "[encoded data removed]",
      "text/plain": [
       "<Figure size 432x288 with 1 Axes>"
      ]
     },
     "metadata": {
      "needs_background": "light"
     },
     "output_type": "display_data"
    }
   ],
   "source": [
    "plot_top_non_stopwords_barchart(train_df[train_df.sentiment_tag==1].text, stop)"
   ]
  },
  {
   "cell_type": "markdown",
   "metadata": {},
   "source": [
    "# Negative top words"
   ]
  },
  {
   "cell_type": "code",
   "execution_count": 19,
   "metadata": {},
   "outputs": [
    {
     "data": {
      "image/png": "[encoded data removed]",
      "text/plain": [
       "<Figure size 432x288 with 1 Axes>"
      ]
     },
     "metadata": {
      "needs_background": "light"
     },
     "output_type": "display_data"
    }
   ],
   "source": [
    "plot_top_non_stopwords_barchart(train_df[train_df.sentiment_tag==-1].text, stop)"
   ]
  },
  {
   "cell_type": "code",
   "execution_count": null,
   "metadata": {},
   "outputs": [],
   "source": []
  },
  {
   "cell_type": "code",
   "execution_count": null,
   "metadata": {},
   "outputs": [],
   "source": []
  }
 ],
 "metadata": {
  "kernelspec": {
   "display_name": "Python 3",
   "language": "python",
   "name": "python3"
  },
  "language_info": {
   "codemirror_mode": {
    "name": "ipython",
    "version": 3
   },
   "file_extension": ".py",
   "mimetype": "text/x-python",
   "name": "python",
   "nbconvert_exporter": "python",
   "pygments_lexer": "ipython3",
   "version": "3.7.7"
  },
  "pycharm": {
   "stem_cell": {
    "cell_type": "raw",
    "source": [],
    "metadata": {
     "collapsed": false
    }
   }
  }
 },
 "nbformat": 4,
 "nbformat_minor": 4
}